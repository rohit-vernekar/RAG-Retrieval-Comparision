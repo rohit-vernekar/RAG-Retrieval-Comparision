{
 "cells": [
  {
   "cell_type": "markdown",
   "metadata": {},
   "source": [
    "# Initialize Data"
   ]
  },
  {
   "cell_type": "code",
   "execution_count": null,
   "metadata": {},
   "outputs": [
    {
     "data": {
      "text/html": [
       "<div>\n",
       "<style scoped>\n",
       "    .dataframe tbody tr th:only-of-type {\n",
       "        vertical-align: middle;\n",
       "    }\n",
       "\n",
       "    .dataframe tbody tr th {\n",
       "        vertical-align: top;\n",
       "    }\n",
       "\n",
       "    .dataframe thead th {\n",
       "        text-align: right;\n",
       "    }\n",
       "</style>\n",
       "<table border=\"1\" class=\"dataframe\">\n",
       "  <thead>\n",
       "    <tr style=\"text-align: right;\">\n",
       "      <th></th>\n",
       "      <th>answers</th>\n",
       "      <th>query</th>\n",
       "      <th>query_type</th>\n",
       "      <th>wellFormedAnswers</th>\n",
       "      <th>passage_text</th>\n",
       "      <th>is_selected</th>\n",
       "    </tr>\n",
       "    <tr>\n",
       "      <th>query_id</th>\n",
       "      <th></th>\n",
       "      <th></th>\n",
       "      <th></th>\n",
       "      <th></th>\n",
       "      <th></th>\n",
       "      <th></th>\n",
       "    </tr>\n",
       "  </thead>\n",
       "  <tbody>\n",
       "    <tr>\n",
       "      <th>0</th>\n",
       "      <td>[Yes]</td>\n",
       "      <td>does human hair stop squirrels</td>\n",
       "      <td>description</td>\n",
       "      <td>[]</td>\n",
       "      <td>[We have been feeding our back yard squirrels ...</td>\n",
       "      <td>[0, 0, 1, 0, 0, 0, 0]</td>\n",
       "    </tr>\n",
       "    <tr>\n",
       "      <th>1</th>\n",
       "      <td>[Fossil fuels are basically the remains of ani...</td>\n",
       "      <td>what are the benefits of fossil fuels</td>\n",
       "      <td>description</td>\n",
       "      <td>[]</td>\n",
       "      <td>[The biggest advantage of using fossil fuels i...</td>\n",
       "      <td>[0, 1, 0, 0, 0, 0, 0, 0, 0]</td>\n",
       "    </tr>\n",
       "    <tr>\n",
       "      <th>2</th>\n",
       "      <td>[The apothem of a regular polygon is a line se...</td>\n",
       "      <td>what is a apothem</td>\n",
       "      <td>description</td>\n",
       "      <td>[]</td>\n",
       "      <td>[Apothem. The apothem of a regular polygon is ...</td>\n",
       "      <td>[0, 0, 0, 0, 0, 1, 0, 0, 0]</td>\n",
       "    </tr>\n",
       "    <tr>\n",
       "      <th>3</th>\n",
       "      <td>[$45 to $210. 2]</td>\n",
       "      <td>average cost for custom canopy</td>\n",
       "      <td>numeric</td>\n",
       "      <td>[]</td>\n",
       "      <td>[Congratulations! You have found BuyShade.com,...</td>\n",
       "      <td>[0, 0, 0, 0, 0, 1, 0, 0, 0]</td>\n",
       "    </tr>\n",
       "    <tr>\n",
       "      <th>4</th>\n",
       "      <td>[It is the collection of physical elements tha...</td>\n",
       "      <td>what is a hardware in a computer</td>\n",
       "      <td>description</td>\n",
       "      <td>[]</td>\n",
       "      <td>[Hardware is best described as a device, such ...</td>\n",
       "      <td>[0, 1, 0, 0, 0, 0, 0, 0, 0, 0]</td>\n",
       "    </tr>\n",
       "  </tbody>\n",
       "</table>\n",
       "</div>"
      ],
      "text/plain": [
       "                                                    answers  \\\n",
       "query_id                                                      \n",
       "0                                                     [Yes]   \n",
       "1         [Fossil fuels are basically the remains of ani...   \n",
       "2         [The apothem of a regular polygon is a line se...   \n",
       "3                                          [$45 to $210. 2]   \n",
       "4         [It is the collection of physical elements tha...   \n",
       "\n",
       "                                          query   query_type  \\\n",
       "query_id                                                       \n",
       "0                does human hair stop squirrels  description   \n",
       "1         what are the benefits of fossil fuels  description   \n",
       "2                             what is a apothem  description   \n",
       "3                average cost for custom canopy      numeric   \n",
       "4              what is a hardware in a computer  description   \n",
       "\n",
       "         wellFormedAnswers                                       passage_text  \\\n",
       "query_id                                                                        \n",
       "0                       []  [We have been feeding our back yard squirrels ...   \n",
       "1                       []  [The biggest advantage of using fossil fuels i...   \n",
       "2                       []  [Apothem. The apothem of a regular polygon is ...   \n",
       "3                       []  [Congratulations! You have found BuyShade.com,...   \n",
       "4                       []  [Hardware is best described as a device, such ...   \n",
       "\n",
       "                             is_selected  \n",
       "query_id                                  \n",
       "0                  [0, 0, 1, 0, 0, 0, 0]  \n",
       "1            [0, 1, 0, 0, 0, 0, 0, 0, 0]  \n",
       "2            [0, 0, 0, 0, 0, 1, 0, 0, 0]  \n",
       "3            [0, 0, 0, 0, 0, 1, 0, 0, 0]  \n",
       "4         [0, 1, 0, 0, 0, 0, 0, 0, 0, 0]  "
      ]
     },
     "execution_count": 1,
     "metadata": {},
     "output_type": "execute_result"
    }
   ],
   "source": [
    "import pandas as pd\n",
    "from evaluation import evaluate_metrics\n",
    "\n",
    "df = pd.read_parquet(\"data/test_data.parquet\")\n",
    "df[\"passage_text\"] = df.apply(lambda x: x[\"passages\"][\"passage_text\"], axis=1)\n",
    "df[\"is_selected\"] = df.apply(lambda x: x[\"passages\"][\"is_selected\"], axis=1)\n",
    "df.drop(\"passages\", axis=1, inplace=True)\n",
    "df.set_index(\"query_id\", inplace=True)\n",
    "df.head()"
   ]
  },
  {
   "cell_type": "code",
   "execution_count": 4,
   "metadata": {},
   "outputs": [
    {
     "name": "stdout",
     "output_type": "stream",
     "text": [
      "INFO: Pandarallel will run on 6 workers.\n",
      "INFO: Pandarallel will use standard multiprocessing data transfer (pipe) to transfer data between the main process and workers.\n"
     ]
    }
   ],
   "source": [
    "from pandarallel import pandarallel\n",
    "pandarallel.initialize(progress_bar=True)"
   ]
  },
  {
   "cell_type": "markdown",
   "metadata": {},
   "source": [
    "## Rank using OpenAI"
   ]
  },
  {
   "cell_type": "code",
   "execution_count": null,
   "metadata": {},
   "outputs": [
    {
     "data": {
      "application/vnd.jupyter.widget-view+json": {
       "model_id": "544cd1d937604d0e81380956ab6d0931",
       "version_major": 2,
       "version_minor": 0
      },
      "text/plain": [
       "VBox(children=(HBox(children=(IntProgress(value=0, description='0.00%', max=1609), Label(value='0 / 1609'))), …"
      ]
     },
     "metadata": {},
     "output_type": "display_data"
    }
   ],
   "source": [
    "from ranking.rank_openai import rank_passages_openai\n",
    "\n",
    "df[\"ranked_passages\"] = df.parallel_apply(lambda x: rank_passages_openai(x[\"query\"], x[\"passage_text\"]), axis=1)"
   ]
  },
  {
   "cell_type": "code",
   "execution_count": 6,
   "metadata": {},
   "outputs": [
    {
     "data": {
      "text/plain": [
       "{'MRR': 0.5346607862488691,\n",
       " 'nDCG': 0.637723390246129,\n",
       " 'Precision at 3': 0.2360621761658031,\n",
       " 'Recall at 3': 0.6452055267702936,\n",
       " 'MAP': 0.5275370719905694}"
      ]
     },
     "execution_count": 6,
     "metadata": {},
     "output_type": "execute_result"
    }
   ],
   "source": [
    "result_openai = evaluate_metrics(df, relevance_col='is_selected', rank_col='ranked_passages')\n",
    "result_openai"
   ]
  },
  {
   "cell_type": "markdown",
   "metadata": {},
   "source": [
    "## Rank using TF-IDF"
   ]
  },
  {
   "cell_type": "code",
   "execution_count": 7,
   "metadata": {},
   "outputs": [
    {
     "data": {
      "application/vnd.jupyter.widget-view+json": {
       "model_id": "3fcea890ee084abbb2560d07f3be884e",
       "version_major": 2,
       "version_minor": 0
      },
      "text/plain": [
       "VBox(children=(HBox(children=(IntProgress(value=0, description='0.00%', max=1609), Label(value='0 / 1609'))), …"
      ]
     },
     "metadata": {},
     "output_type": "display_data"
    }
   ],
   "source": [
    "from ranking.rank_tfidf import rank_passages_tfidf\n",
    "\n",
    "df[\"ranked_passages_tfidf\"] = df.parallel_apply(lambda x: rank_passages_tfidf(x[\"query\"], x[\"passage_text\"]), axis=1)"
   ]
  },
  {
   "cell_type": "code",
   "execution_count": 8,
   "metadata": {},
   "outputs": [
    {
     "data": {
      "text/plain": [
       "{'MRR': 0.451944896784275,\n",
       " 'nDCG': 0.5737061735586872,\n",
       " 'Precision at 3': 0.19582037996545767,\n",
       " 'Recall at 3': 0.5317081174438688,\n",
       " 'MAP': 0.4455216499438003}"
      ]
     },
     "execution_count": 8,
     "metadata": {},
     "output_type": "execute_result"
    }
   ],
   "source": [
    "result_tfidf = evaluate_metrics(df, relevance_col='is_selected', rank_col='ranked_passages_tfidf')\n",
    "result_tfidf"
   ]
  }
 ],
 "metadata": {
  "kernelspec": {
   "display_name": "nlp",
   "language": "python",
   "name": "python3"
  },
  "language_info": {
   "codemirror_mode": {
    "name": "ipython",
    "version": 3
   },
   "file_extension": ".py",
   "mimetype": "text/x-python",
   "name": "python",
   "nbconvert_exporter": "python",
   "pygments_lexer": "ipython3",
   "version": "3.12.5"
  }
 },
 "nbformat": 4,
 "nbformat_minor": 2
}
